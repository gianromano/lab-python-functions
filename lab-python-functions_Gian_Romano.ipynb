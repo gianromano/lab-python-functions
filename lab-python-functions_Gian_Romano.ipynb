{
 "cells": [
  {
   "cell_type": "markdown",
   "id": "25d7736c-ba17-4aff-b6bb-66eba20fbf4e",
   "metadata": {},
   "source": [
    "# Lab | Functions"
   ]
  },
  {
   "cell_type": "markdown",
   "id": "0c581062-8967-4d93-b06e-62833222f930",
   "metadata": {
    "tags": []
   },
   "source": [
    "## Exercise: Managing Customer Orders with Functions\n",
    "\n",
    "In the previous exercise, you improved the code for managing customer orders by using loops and flow control. Now, let's take it a step further and refactor the code by introducing functions.\n",
    "\n",
    "Follow the steps below to complete the exercise:\n",
    "\n",
    "1. Define a function named `initialize_inventory` that takes `products` as a parameter. Inside the function, implement the code for initializing the inventory dictionary using a loop and user input.\n",
    "\n",
    "2. Define a function named `get_customer_orders` that takes no parameters. Inside the function, implement the code for prompting the user to enter the product names using a loop. The function should return the `customer_orders` set.\n",
    "\n",
    "3. Define a function named `update_inventory` that takes `customer_orders` and `inventory` as parameters. Inside the function, implement the code for updating the inventory dictionary based on the customer orders.\n",
    "\n",
    "4. Define a function named `calculate_order_statistics` that takes `customer_orders` and `products` as parameters. Inside the function, implement the code for calculating the order statistics (total products ordered, and percentage of unique products ordered). The function should return these values.\n",
    "\n",
    "5. Define a function named `print_order_statistics` that takes `order_statistics` as a parameter. Inside the function, implement the code for printing the order statistics.\n",
    "\n",
    "6. Define a function named `print_updated_inventory` that takes `inventory` as a parameter. Inside the function, implement the code for printing the updated inventory.\n",
    "\n",
    "7. Call the functions in the appropriate sequence to execute the program and manage customer orders.\n",
    "\n",
    "Hints for functions:\n",
    "\n",
    "- Consider the input parameters required for each function and their return values.\n",
    "- Utilize function parameters and return values to transfer data between functions.\n",
    "- Test your functions individually to ensure they work correctly.\n",
    "\n",
    "\n"
   ]
  },
  {
   "cell_type": "code",
   "execution_count": 11,
   "id": "e911c2ad",
   "metadata": {},
   "outputs": [],
   "source": [
    "products = ['t-shirt', 'mug', 'hat', 'book', 'keychain']\n",
    "\n",
    "# Function to load quntities in the inventory\n",
    "def initialize_inventory(products):\n",
    "    inventory = {}\n",
    "    for product in products:\n",
    "            quantity = int(input(f\"Enter quantity for {product}: \"))\n",
    "            inventory[product] = quantity\n",
    "    print(\"Inventory:\")\n",
    "    print(inventory)\n",
    "    return inventory\n",
    "\n"
   ]
  },
  {
   "cell_type": "code",
   "execution_count": 12,
   "id": "164f83d8-39eb-4c46-a052-4131ae6e1202",
   "metadata": {},
   "outputs": [],
   "source": [
    "# Function to record customer order\n",
    "def get_customer_orders():\n",
    "    want_to_buy = 'yes'\n",
    "    customer_orders = set()\n",
    "    while want_to_buy == 'yes':\n",
    "        product = input(\"Enter the name of the product you want to buy: \")\n",
    "        customer_orders.add(product)\n",
    "        print(f\"You bought: A {product}\")\n",
    "        want_to_buy = input(\"Continue shopping?: yes or no \")\n",
    "    else:\n",
    "        print(\"Thanks!, good bye\")\n",
    "        print(f\"The Customer ordered: {customer_orders}\")\n",
    "    return customer_orders\n",
    "        \n"
   ]
  },
  {
   "cell_type": "code",
   "execution_count": 18,
   "id": "6e880a35-4c88-4550-8b63-1d3480b481c0",
   "metadata": {},
   "outputs": [],
   "source": [
    "# Function to update inventory\n",
    "def update_inventory(customer_orders,inventory):\n",
    "    for sold_product in customer_orders:\n",
    "        if sold_product in inventory and inventory.get(sold_product) != 0 :\n",
    "            inventory[sold_product] = inventory.get(sold_product) - 1\n",
    "        else:\n",
    "            print(f\"El producto {product} no existe en el inventario\")\n",
    "    \n"
   ]
  },
  {
   "cell_type": "code",
   "execution_count": 14,
   "id": "74966c06-036e-4954-9db0-98bcdae77d58",
   "metadata": {},
   "outputs": [],
   "source": [
    "# Function to calculate order statistics calculating the order statistics \n",
    "def calculate_order_statistics(customer_orders,products):\n",
    "    total_products_ordered = len(customer_orders)\n",
    "    total_products = len(products)\n",
    "    percentage_of_unique_products_ordered = (total_products_ordered/total_products)*100\n",
    "    order_statistics = (total_products_ordered,percentage_of_unique_products_ordered)\n",
    "    return order_statistics\n",
    "\n"
   ]
  },
  {
   "cell_type": "code",
   "execution_count": 15,
   "id": "caba8631-e7ef-432c-aec2-e9100e840bcf",
   "metadata": {},
   "outputs": [],
   "source": [
    "# Function to print order statistics   \n",
    "def print_order_statistics(order_statistics):\n",
    "    float_statistics = float(order_statistics[1])\n",
    "    print(f\"Total Products Ordered: {order_statistics[0]}\")\n",
    "    print(f\"Percentage of Products Ordered: {float_statistics}%\")\n",
    "    \n"
   ]
  },
  {
   "cell_type": "code",
   "execution_count": 20,
   "id": "e1c0cdc8-a7a7-474c-85c8-fafd10ec1a52",
   "metadata": {},
   "outputs": [],
   "source": [
    "# Function to print updated inventory\n",
    "def print_updated_inventory(inventory):\n",
    "    print(\"New inventory: \")\n",
    "    for product, quantity in inventory.items():\n",
    "        print(f\"{product}: {quantity}\")\n",
    "\n"
   ]
  },
  {
   "cell_type": "code",
   "execution_count": 21,
   "id": "aee60371-fcc2-491f-9839-8f223a5f33a9",
   "metadata": {},
   "outputs": [],
   "source": [
    "# Main function \n",
    "def main():\n",
    "    inventory = {}\n",
    "    while not inventory:\n",
    "        print(\"Inventory is empty. Please load your porducts\")\n",
    "        initialize_inventory(products)\n",
    "    customer_orders = get_customer_orders()\n",
    "    update_inventory(customer_orders,inventory)\n",
    "    order_statistics = calculate_order_statistics(customer_orders,products)\n",
    "    print_order_statistics(order_statistics)\n",
    "    print_updated_inventory(inventory)\n",
    "\n"
   ]
  },
  {
   "cell_type": "code",
   "execution_count": null,
   "id": "a10289d7-1606-40a3-8497-16bae8422e03",
   "metadata": {},
   "outputs": [],
   "source": [
    "main()"
   ]
  }
 ],
 "metadata": {
  "kernelspec": {
   "display_name": "Python 3 (ipykernel)",
   "language": "python",
   "name": "python3"
  },
  "language_info": {
   "codemirror_mode": {
    "name": "ipython",
    "version": 3
   },
   "file_extension": ".py",
   "mimetype": "text/x-python",
   "name": "python",
   "nbconvert_exporter": "python",
   "pygments_lexer": "ipython3",
   "version": "3.11.7"
  }
 },
 "nbformat": 4,
 "nbformat_minor": 5
}
